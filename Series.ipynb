{
 "cells": [
  {
   "cell_type": "code",
   "execution_count": 3,
   "metadata": {},
   "outputs": [
    {
     "name": "stdout",
     "output_type": "stream",
     "text": [
      "<class 'pandas.core.series.Series'>\n",
      "0    Avengers: Age of Ultron (2015)\n",
      "1                 Cinderella (2015)\n",
      "2                    Ant-Man (2015)\n",
      "3            Do You Believe? (2015)\n",
      "4     Hot Tub Time Machine 2 (2015)\n",
      "Name: FILM, dtype: object\n",
      "0       74\n",
      "1       85\n",
      "2       80\n",
      "3       18\n",
      "4       14\n",
      "      ... \n",
      "141     87\n",
      "142     97\n",
      "143     97\n",
      "144    100\n",
      "145     87\n",
      "Name: RottenTomatoes, Length: 146, dtype: int64\n"
     ]
    }
   ],
   "source": [
    "import pandas as pd\n",
    "fandango = pd.read_csv('fandango_score_comparison.csv')\n",
    "series_film = fandango['FILM']\n",
    "print(type(series_film))\n",
    "print(series_film[0:5])\n",
    "series_rt = fandango['RottenTomatoes']\n",
    "print(series_rt)"
   ]
  },
  {
   "cell_type": "code",
   "execution_count": 7,
   "metadata": {},
   "outputs": [
    {
     "name": "stdout",
     "output_type": "stream",
     "text": [
      "<class 'numpy.ndarray'>\n"
     ]
    }
   ],
   "source": [
    "from pandas import Series\n",
    "film_names = series_film.values\n",
    "print(type(film_names))"
   ]
  },
  {
   "cell_type": "code",
   "execution_count": 8,
   "metadata": {},
   "outputs": [
    {
     "name": "stdout",
     "output_type": "stream",
     "text": [
      "['Avengers: Age of Ultron (2015)' 'Cinderella (2015)' 'Ant-Man (2015)'\n",
      " 'Do You Believe? (2015)' 'Hot Tub Time Machine 2 (2015)'\n",
      " 'The Water Diviner (2015)' 'Irrational Man (2015)' 'Top Five (2014)'\n",
      " 'Shaun the Sheep Movie (2015)' 'Love & Mercy (2015)'\n",
      " 'Far From The Madding Crowd (2015)' 'Black Sea (2015)' 'Leviathan (2014)'\n",
      " 'Unbroken (2014)' 'The Imitation Game (2014)' 'Taken 3 (2015)'\n",
      " 'Ted 2 (2015)' 'Southpaw (2015)'\n",
      " 'Night at the Museum: Secret of the Tomb (2014)' 'Pixels (2015)'\n",
      " 'McFarland, USA (2015)' 'Insidious: Chapter 3 (2015)'\n",
      " 'The Man From U.N.C.L.E. (2015)' 'Run All Night (2015)'\n",
      " 'Trainwreck (2015)' 'Selma (2014)' 'Ex Machina (2015)'\n",
      " 'Still Alice (2015)' 'Wild Tales (2014)' 'The End of the Tour (2015)'\n",
      " 'Red Army (2015)' 'When Marnie Was There (2015)'\n",
      " 'The Hunting Ground (2015)' 'The Boy Next Door (2015)' 'Aloha (2015)'\n",
      " 'The Loft (2015)' '5 Flights Up (2015)' 'Welcome to Me (2015)'\n",
      " 'Saint Laurent (2015)' 'Maps to the Stars (2015)'\n",
      " \"I'll See You In My Dreams (2015)\" 'Timbuktu (2015)' 'About Elly (2015)'\n",
      " 'The Diary of a Teenage Girl (2015)'\n",
      " 'Kingsman: The Secret Service (2015)' 'Tomorrowland (2015)'\n",
      " 'The Divergent Series: Insurgent (2015)' 'Annie (2014)'\n",
      " 'Fantastic Four (2015)' 'Terminator Genisys (2015)'\n",
      " 'Pitch Perfect 2 (2015)' 'Entourage (2015)' 'The Age of Adaline (2015)'\n",
      " 'Hot Pursuit (2015)' 'The DUFF (2015)' 'Black or White (2015)'\n",
      " 'Project Almanac (2015)' 'Ricki and the Flash (2015)'\n",
      " 'Seventh Son (2015)' 'Mortdecai (2015)' 'Unfinished Business (2015)'\n",
      " 'American Ultra (2015)' 'True Story (2015)' 'Child 44 (2015)'\n",
      " 'Dark Places (2015)' 'Birdman (2014)' 'The Gift (2015)'\n",
      " 'Unfriended (2015)' 'Monkey Kingdom (2015)' 'Mr. Turner (2014)'\n",
      " 'Seymour: An Introduction (2015)' 'The Wrecking Crew (2015)'\n",
      " 'American Sniper (2015)' 'Furious 7 (2015)'\n",
      " 'The Hobbit: The Battle of the Five Armies (2014)' 'San Andreas (2015)'\n",
      " 'Straight Outta Compton (2015)' 'Vacation (2015)' 'Chappie (2015)'\n",
      " 'Poltergeist (2015)' 'Paper Towns (2015)' 'Big Eyes (2014)'\n",
      " 'Blackhat (2015)' 'Self/less (2015)' 'Sinister 2 (2015)'\n",
      " 'Little Boy (2015)' 'Me and Earl and The Dying Girl (2015)'\n",
      " 'Maggie (2015)' 'Mad Max: Fury Road (2015)' 'Spy (2015)'\n",
      " 'The SpongeBob Movie: Sponge Out of Water (2015)' 'Paddington (2015)'\n",
      " 'Dope (2015)' 'What We Do in the Shadows (2015)' 'The Overnight (2015)'\n",
      " 'The Salt of the Earth (2015)' 'Song of the Sea (2014)'\n",
      " 'Fifty Shades of Grey (2015)' 'Get Hard (2015)' 'Focus (2015)'\n",
      " 'Jupiter Ascending (2015)' 'The Gallows (2015)'\n",
      " 'The Second Best Exotic Marigold Hotel (2015)' 'Strange Magic (2015)'\n",
      " 'The Gunman (2015)' 'Hitman: Agent 47 (2015)' 'Cake (2015)'\n",
      " 'The Vatican Tapes (2015)' 'A Little Chaos (2015)'\n",
      " 'The 100-Year-Old Man Who Climbed Out the Window and Disappeared (2015)'\n",
      " 'Escobar: Paradise Lost (2015)' 'Into the Woods (2014)'\n",
      " 'It Follows (2015)' 'Inherent Vice (2014)' 'A Most Violent Year (2014)'\n",
      " \"While We're Young (2015)\" 'Clouds of Sils Maria (2015)'\n",
      " 'Testament of Youth (2015)' 'Infinitely Polar Bear (2015)'\n",
      " 'Phoenix (2015)' 'The Wolfpack (2015)'\n",
      " 'The Stanford Prison Experiment (2015)' 'Tangerine (2015)'\n",
      " 'Magic Mike XXL (2015)' 'Home (2015)' 'The Wedding Ringer (2015)'\n",
      " 'Woman in Gold (2015)' 'The Last Five Years (2015)'\n",
      " 'Mission: Impossible â€“ Rogue Nation (2015)' 'Amy (2015)'\n",
      " 'Jurassic World (2015)' 'Minions (2015)' 'Max (2015)'\n",
      " 'Paul Blart: Mall Cop 2 (2015)' 'The Longest Ride (2015)'\n",
      " 'The Lazarus Effect (2015)' 'The Woman In Black 2 Angel of Death (2015)'\n",
      " 'Danny Collins (2015)' 'Spare Parts (2015)' 'Serena (2015)'\n",
      " 'Inside Out (2015)' 'Mr. Holmes (2015)' \"'71 (2015)\"\n",
      " 'Two Days, One Night (2014)' 'Gett: The Trial of Viviane Amsalem (2015)'\n",
      " 'Kumiko, The Treasure Hunter (2015)']\n"
     ]
    }
   ],
   "source": [
    "print(film_names)"
   ]
  },
  {
   "cell_type": "code",
   "execution_count": 12,
   "metadata": {},
   "outputs": [
    {
     "name": "stdout",
     "output_type": "stream",
     "text": [
      "[ 74  85  80  18  14  63  42  86  99  89  84  82  99  51  90   9  46  59\n",
      "  50  17  79  59  68  60  85  99  92  88  96  92  96  89  92  10  19  11\n",
      "  52  71  51  60  94  99  97  95  75  50  30  27   9  26  67  32  54   8\n",
      "  71  39  34  64  12  12  11  46  45  26  26  92  93  60  94  98 100  93\n",
      "  72  81  61  50  90  27  30  31  55  72  34  20  13  20  81  54  97  93\n",
      "  78  98  87  96  82  96  99  25  29  57  26  16  62  17  17   7  49  13\n",
      "  40  67  52  71  96  73  90  83  89  81  80  99  84  84  95  62  45  27\n",
      "  52  60  92  97  71  54  35   5  31  14  22  77  52  18  98  87  97  97\n",
      " 100  87]\n"
     ]
    }
   ],
   "source": [
    "rt_scores = series_rt.values\n",
    "print(rt_scores)"
   ]
  },
  {
   "cell_type": "code",
   "execution_count": 18,
   "metadata": {},
   "outputs": [
    {
     "data": {
      "text/plain": [
       "Minions (2015)      54\n",
       "Leviathan (2014)    99\n",
       "dtype: int64"
      ]
     },
     "execution_count": 18,
     "metadata": {},
     "output_type": "execute_result"
    }
   ],
   "source": [
    "series_custom = Series(rt_scores,index=film_names)\n",
    "series_custom[['Minions (2015)','Leviathan (2014)']]"
   ]
  },
  {
   "cell_type": "code",
   "execution_count": 19,
   "metadata": {},
   "outputs": [
    {
     "name": "stdout",
     "output_type": "stream",
     "text": [
      "The Water Diviner (2015)        63\n",
      "Irrational Man (2015)           42\n",
      "Top Five (2014)                 86\n",
      "Shaun the Sheep Movie (2015)    99\n",
      "Love & Mercy (2015)             89\n",
      "dtype: int64\n"
     ]
    }
   ],
   "source": [
    "series_custom = Series(rt_scores,index=film_names)\n",
    "series_custom[['Minions (2015)','Leviathan (2014)']]\n",
    "fiveten = series_custom[5:10]\n",
    "print(fiveten)"
   ]
  },
  {
   "cell_type": "code",
   "execution_count": 20,
   "metadata": {},
   "outputs": [
    {
     "name": "stdout",
     "output_type": "stream",
     "text": [
      "'71 (2015)                          97\n",
      "5 Flights Up (2015)                 52\n",
      "A Little Chaos (2015)               40\n",
      "A Most Violent Year (2014)          90\n",
      "About Elly (2015)                   97\n",
      "                                    ..\n",
      "What We Do in the Shadows (2015)    96\n",
      "When Marnie Was There (2015)        89\n",
      "While We're Young (2015)            83\n",
      "Wild Tales (2014)                   96\n",
      "Woman in Gold (2015)                52\n",
      "Length: 146, dtype: int64\n"
     ]
    }
   ],
   "source": [
    "original_index = series_custom.index.to_list()\n",
    "sorted_index = sorted(original_index)\n",
    "sorted_by_index = series_custom.reindex(sorted_index)\n",
    "print(sorted_by_index)"
   ]
  },
  {
   "cell_type": "code",
   "execution_count": 21,
   "metadata": {},
   "outputs": [
    {
     "name": "stdout",
     "output_type": "stream",
     "text": [
      "'71 (2015)                          97\n",
      "5 Flights Up (2015)                 52\n",
      "A Little Chaos (2015)               40\n",
      "A Most Violent Year (2014)          90\n",
      "About Elly (2015)                   97\n",
      "                                    ..\n",
      "What We Do in the Shadows (2015)    96\n",
      "When Marnie Was There (2015)        89\n",
      "While We're Young (2015)            83\n",
      "Wild Tales (2014)                   96\n",
      "Woman in Gold (2015)                52\n",
      "Length: 146, dtype: int64\n"
     ]
    }
   ],
   "source": [
    "sc2 = series_custom.sort_index() #按照键进行排序\n",
    "print(sc2)"
   ]
  },
  {
   "cell_type": "code",
   "execution_count": 22,
   "metadata": {},
   "outputs": [
    {
     "name": "stdout",
     "output_type": "stream",
     "text": [
      "Paul Blart: Mall Cop 2 (2015)                  5\n",
      "Hitman: Agent 47 (2015)                        7\n",
      "Hot Pursuit (2015)                             8\n",
      "Fantastic Four (2015)                          9\n",
      "Taken 3 (2015)                                 9\n",
      "                                            ... \n",
      "Song of the Sea (2014)                        99\n",
      "Phoenix (2015)                                99\n",
      "Selma (2014)                                  99\n",
      "Seymour: An Introduction (2015)              100\n",
      "Gett: The Trial of Viviane Amsalem (2015)    100\n",
      "Length: 146, dtype: int64\n"
     ]
    }
   ],
   "source": [
    "sc3 = series_custom.sort_values() #按照值进行排序\n",
    "print(sc3)"
   ]
  },
  {
   "cell_type": "code",
   "execution_count": 23,
   "metadata": {},
   "outputs": [
    {
     "name": "stdout",
     "output_type": "stream",
     "text": [
      "Avengers: Age of Ultron (2015)               148\n",
      "Cinderella (2015)                            170\n",
      "Ant-Man (2015)                               160\n",
      "Do You Believe? (2015)                        36\n",
      "Hot Tub Time Machine 2 (2015)                 28\n",
      "                                            ... \n",
      "Mr. Holmes (2015)                            174\n",
      "'71 (2015)                                   194\n",
      "Two Days, One Night (2014)                   194\n",
      "Gett: The Trial of Viviane Amsalem (2015)    200\n",
      "Kumiko, The Treasure Hunter (2015)           174\n",
      "Length: 146, dtype: int64\n"
     ]
    }
   ],
   "source": [
    "import numpy as np\n",
    "print(np.add(series_custom,series_custom))"
   ]
  },
  {
   "cell_type": "code",
   "execution_count": 24,
   "metadata": {},
   "outputs": [
    {
     "name": "stdout",
     "output_type": "stream",
     "text": [
      "FILM\n",
      "Avengers: Age of Ultron (2015)               80.0\n",
      "Cinderella (2015)                            82.5\n",
      "Ant-Man (2015)                               85.0\n",
      "Do You Believe? (2015)                       51.0\n",
      "Hot Tub Time Machine 2 (2015)                21.0\n",
      "                                             ... \n",
      "Mr. Holmes (2015)                            82.5\n",
      "'71 (2015)                                   89.5\n",
      "Two Days, One Night (2014)                   87.5\n",
      "Gett: The Trial of Viviane Amsalem (2015)    90.5\n",
      "Kumiko, The Treasure Hunter (2015)           75.0\n",
      "Length: 146, dtype: float64\n"
     ]
    }
   ],
   "source": [
    "rt_critics = Series(fandango['RottenTomatoes'].values,index=fandango['FILM'])\n",
    "rt_users = Series(fandango['RottenTomatoes_User'].values,index=fandango['FILM'])\n",
    "rt_mean = (rt_critics+rt_users)/2\n",
    "print(rt_mean)"
   ]
  },
  {
   "cell_type": "code",
   "execution_count": 25,
   "metadata": {},
   "outputs": [
    {
     "name": "stdout",
     "output_type": "stream",
     "text": [
      "<class 'pandas.core.frame.DataFrame'>\n"
     ]
    }
   ],
   "source": [
    "print(type(fandango))"
   ]
  },
  {
   "cell_type": "code",
   "execution_count": 26,
   "metadata": {},
   "outputs": [
    {
     "name": "stdout",
     "output_type": "stream",
     "text": [
      "                                                                                FILM  \\\n",
      "FILM                                                                                   \n",
      "Avengers: Age of Ultron (2015)                        Avengers: Age of Ultron (2015)   \n",
      "Cinderella (2015)                                                  Cinderella (2015)   \n",
      "Ant-Man (2015)                                                        Ant-Man (2015)   \n",
      "Do You Believe? (2015)                                        Do You Believe? (2015)   \n",
      "Hot Tub Time Machine 2 (2015)                          Hot Tub Time Machine 2 (2015)   \n",
      "...                                                                              ...   \n",
      "Mr. Holmes (2015)                                                  Mr. Holmes (2015)   \n",
      "'71 (2015)                                                                '71 (2015)   \n",
      "Two Days, One Night (2014)                                Two Days, One Night (2014)   \n",
      "Gett: The Trial of Viviane Amsalem (2015)  Gett: The Trial of Viviane Amsalem (2015)   \n",
      "Kumiko, The Treasure Hunter (2015)                Kumiko, The Treasure Hunter (2015)   \n",
      "\n",
      "                                           RottenTomatoes  \\\n",
      "FILM                                                        \n",
      "Avengers: Age of Ultron (2015)                         74   \n",
      "Cinderella (2015)                                      85   \n",
      "Ant-Man (2015)                                         80   \n",
      "Do You Believe? (2015)                                 18   \n",
      "Hot Tub Time Machine 2 (2015)                          14   \n",
      "...                                                   ...   \n",
      "Mr. Holmes (2015)                                      87   \n",
      "'71 (2015)                                             97   \n",
      "Two Days, One Night (2014)                             97   \n",
      "Gett: The Trial of Viviane Amsalem (2015)             100   \n",
      "Kumiko, The Treasure Hunter (2015)                     87   \n",
      "\n",
      "                                           RottenTomatoes_User  Metacritic  \\\n",
      "FILM                                                                         \n",
      "Avengers: Age of Ultron (2015)                              86          66   \n",
      "Cinderella (2015)                                           80          67   \n",
      "Ant-Man (2015)                                              90          64   \n",
      "Do You Believe? (2015)                                      84          22   \n",
      "Hot Tub Time Machine 2 (2015)                               28          29   \n",
      "...                                                        ...         ...   \n",
      "Mr. Holmes (2015)                                           78          67   \n",
      "'71 (2015)                                                  82          83   \n",
      "Two Days, One Night (2014)                                  78          89   \n",
      "Gett: The Trial of Viviane Amsalem (2015)                   81          90   \n",
      "Kumiko, The Treasure Hunter (2015)                          63          68   \n",
      "\n",
      "                                           Metacritic_User  IMDB  \\\n",
      "FILM                                                               \n",
      "Avengers: Age of Ultron (2015)                         7.1   7.8   \n",
      "Cinderella (2015)                                      7.5   7.1   \n",
      "Ant-Man (2015)                                         8.1   7.8   \n",
      "Do You Believe? (2015)                                 4.7   5.4   \n",
      "Hot Tub Time Machine 2 (2015)                          3.4   5.1   \n",
      "...                                                    ...   ...   \n",
      "Mr. Holmes (2015)                                      7.9   7.4   \n",
      "'71 (2015)                                             7.5   7.2   \n",
      "Two Days, One Night (2014)                             8.8   7.4   \n",
      "Gett: The Trial of Viviane Amsalem (2015)              7.3   7.8   \n",
      "Kumiko, The Treasure Hunter (2015)                     6.4   6.7   \n",
      "\n",
      "                                           Fandango_Stars  \\\n",
      "FILM                                                        \n",
      "Avengers: Age of Ultron (2015)                        5.0   \n",
      "Cinderella (2015)                                     5.0   \n",
      "Ant-Man (2015)                                        5.0   \n",
      "Do You Believe? (2015)                                5.0   \n",
      "Hot Tub Time Machine 2 (2015)                         3.5   \n",
      "...                                                   ...   \n",
      "Mr. Holmes (2015)                                     4.0   \n",
      "'71 (2015)                                            3.5   \n",
      "Two Days, One Night (2014)                            3.5   \n",
      "Gett: The Trial of Viviane Amsalem (2015)             3.5   \n",
      "Kumiko, The Treasure Hunter (2015)                    3.5   \n",
      "\n",
      "                                           Fandango_Ratingvalue  RT_norm  \\\n",
      "FILM                                                                       \n",
      "Avengers: Age of Ultron (2015)                              4.5     3.70   \n",
      "Cinderella (2015)                                           4.5     4.25   \n",
      "Ant-Man (2015)                                              4.5     4.00   \n",
      "Do You Believe? (2015)                                      4.5     0.90   \n",
      "Hot Tub Time Machine 2 (2015)                               3.0     0.70   \n",
      "...                                                         ...      ...   \n",
      "Mr. Holmes (2015)                                           4.0     4.35   \n",
      "'71 (2015)                                                  3.5     4.85   \n",
      "Two Days, One Night (2014)                                  3.5     4.85   \n",
      "Gett: The Trial of Viviane Amsalem (2015)                   3.5     5.00   \n",
      "Kumiko, The Treasure Hunter (2015)                          3.5     4.35   \n",
      "\n",
      "                                           RT_user_norm  ...  IMDB_norm  \\\n",
      "FILM                                                     ...              \n",
      "Avengers: Age of Ultron (2015)                     4.30  ...       3.90   \n",
      "Cinderella (2015)                                  4.00  ...       3.55   \n",
      "Ant-Man (2015)                                     4.50  ...       3.90   \n",
      "Do You Believe? (2015)                             4.20  ...       2.70   \n",
      "Hot Tub Time Machine 2 (2015)                      1.40  ...       2.55   \n",
      "...                                                 ...  ...        ...   \n",
      "Mr. Holmes (2015)                                  3.90  ...       3.70   \n",
      "'71 (2015)                                         4.10  ...       3.60   \n",
      "Two Days, One Night (2014)                         3.90  ...       3.70   \n",
      "Gett: The Trial of Viviane Amsalem (2015)          4.05  ...       3.90   \n",
      "Kumiko, The Treasure Hunter (2015)                 3.15  ...       3.35   \n",
      "\n",
      "                                           RT_norm_round  RT_user_norm_round  \\\n",
      "FILM                                                                           \n",
      "Avengers: Age of Ultron (2015)                       3.5                 4.5   \n",
      "Cinderella (2015)                                    4.5                 4.0   \n",
      "Ant-Man (2015)                                       4.0                 4.5   \n",
      "Do You Believe? (2015)                               1.0                 4.0   \n",
      "Hot Tub Time Machine 2 (2015)                        0.5                 1.5   \n",
      "...                                                  ...                 ...   \n",
      "Mr. Holmes (2015)                                    4.5                 4.0   \n",
      "'71 (2015)                                           5.0                 4.0   \n",
      "Two Days, One Night (2014)                           5.0                 4.0   \n",
      "Gett: The Trial of Viviane Amsalem (2015)            5.0                 4.0   \n",
      "Kumiko, The Treasure Hunter (2015)                   4.5                 3.0   \n",
      "\n",
      "                                           Metacritic_norm_round  \\\n",
      "FILM                                                               \n",
      "Avengers: Age of Ultron (2015)                               3.5   \n",
      "Cinderella (2015)                                            3.5   \n",
      "Ant-Man (2015)                                               3.0   \n",
      "Do You Believe? (2015)                                       1.0   \n",
      "Hot Tub Time Machine 2 (2015)                                1.5   \n",
      "...                                                          ...   \n",
      "Mr. Holmes (2015)                                            3.5   \n",
      "'71 (2015)                                                   4.0   \n",
      "Two Days, One Night (2014)                                   4.5   \n",
      "Gett: The Trial of Viviane Amsalem (2015)                    4.5   \n",
      "Kumiko, The Treasure Hunter (2015)                           3.5   \n",
      "\n",
      "                                           Metacritic_user_norm_round  \\\n",
      "FILM                                                                    \n",
      "Avengers: Age of Ultron (2015)                                    3.5   \n",
      "Cinderella (2015)                                                 4.0   \n",
      "Ant-Man (2015)                                                    4.0   \n",
      "Do You Believe? (2015)                                            2.5   \n",
      "Hot Tub Time Machine 2 (2015)                                     1.5   \n",
      "...                                                               ...   \n",
      "Mr. Holmes (2015)                                                 4.0   \n",
      "'71 (2015)                                                        4.0   \n",
      "Two Days, One Night (2014)                                        4.5   \n",
      "Gett: The Trial of Viviane Amsalem (2015)                         3.5   \n",
      "Kumiko, The Treasure Hunter (2015)                                3.0   \n",
      "\n",
      "                                           IMDB_norm_round  \\\n",
      "FILM                                                         \n",
      "Avengers: Age of Ultron (2015)                         4.0   \n",
      "Cinderella (2015)                                      3.5   \n",
      "Ant-Man (2015)                                         4.0   \n",
      "Do You Believe? (2015)                                 2.5   \n",
      "Hot Tub Time Machine 2 (2015)                          2.5   \n",
      "...                                                    ...   \n",
      "Mr. Holmes (2015)                                      3.5   \n",
      "'71 (2015)                                             3.5   \n",
      "Two Days, One Night (2014)                             3.5   \n",
      "Gett: The Trial of Viviane Amsalem (2015)              4.0   \n",
      "Kumiko, The Treasure Hunter (2015)                     3.5   \n",
      "\n",
      "                                           Metacritic_user_vote_count  \\\n",
      "FILM                                                                    \n",
      "Avengers: Age of Ultron (2015)                                   1330   \n",
      "Cinderella (2015)                                                 249   \n",
      "Ant-Man (2015)                                                    627   \n",
      "Do You Believe? (2015)                                             31   \n",
      "Hot Tub Time Machine 2 (2015)                                      88   \n",
      "...                                                               ...   \n",
      "Mr. Holmes (2015)                                                  33   \n",
      "'71 (2015)                                                         60   \n",
      "Two Days, One Night (2014)                                        123   \n",
      "Gett: The Trial of Viviane Amsalem (2015)                          19   \n",
      "Kumiko, The Treasure Hunter (2015)                                 19   \n",
      "\n",
      "                                           IMDB_user_vote_count  \\\n",
      "FILM                                                              \n",
      "Avengers: Age of Ultron (2015)                           271107   \n",
      "Cinderella (2015)                                         65709   \n",
      "Ant-Man (2015)                                           103660   \n",
      "Do You Believe? (2015)                                     3136   \n",
      "Hot Tub Time Machine 2 (2015)                             19560   \n",
      "...                                                         ...   \n",
      "Mr. Holmes (2015)                                          7367   \n",
      "'71 (2015)                                                24116   \n",
      "Two Days, One Night (2014)                                24345   \n",
      "Gett: The Trial of Viviane Amsalem (2015)                  1955   \n",
      "Kumiko, The Treasure Hunter (2015)                         5289   \n",
      "\n",
      "                                           Fandango_votes  Fandango_Difference  \n",
      "FILM                                                                            \n",
      "Avengers: Age of Ultron (2015)                      14846                  0.5  \n",
      "Cinderella (2015)                                   12640                  0.5  \n",
      "Ant-Man (2015)                                      12055                  0.5  \n",
      "Do You Believe? (2015)                               1793                  0.5  \n",
      "Hot Tub Time Machine 2 (2015)                        1021                  0.5  \n",
      "...                                                   ...                  ...  \n",
      "Mr. Holmes (2015)                                    1348                  0.0  \n",
      "'71 (2015)                                            192                  0.0  \n",
      "Two Days, One Night (2014)                            118                  0.0  \n",
      "Gett: The Trial of Viviane Amsalem (2015)              59                  0.0  \n",
      "Kumiko, The Treasure Hunter (2015)                     41                  0.0  \n",
      "\n",
      "[146 rows x 22 columns]\n"
     ]
    }
   ],
   "source": [
    "fandango_films = fandango.set_index('FILM',drop=False)\n",
    "print(fandango_films)"
   ]
  },
  {
   "cell_type": "code",
   "execution_count": null,
   "metadata": {},
   "outputs": [],
   "source": []
  }
 ],
 "metadata": {
  "kernelspec": {
   "display_name": "Python 3",
   "language": "python",
   "name": "python3"
  },
  "language_info": {
   "codemirror_mode": {
    "name": "ipython",
    "version": 3
   },
   "file_extension": ".py",
   "mimetype": "text/x-python",
   "name": "python",
   "nbconvert_exporter": "python",
   "pygments_lexer": "ipython3",
   "version": "3.6.10"
  }
 },
 "nbformat": 4,
 "nbformat_minor": 4
}
